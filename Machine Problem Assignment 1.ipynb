{
 "cells": [
  {
   "cell_type": "code",
   "execution_count": 20,
   "id": "3379c663",
   "metadata": {},
   "outputs": [],
   "source": [
    "from math import *\n",
    "import numpy as np\n",
    "import scipy.linalg as LA\n",
    "import scipy.optimize as opt\n",
    "\n",
    "def my_fixed_point(myfunc,xO,tol,maxIters,debug):\n",
    "    \"\"\"\n",
    "    This program solves a system of nonlinear equations\n",
    "    using the fixed point method within a specified\n",
    "    tolerance.\n",
    "    userFunc1 = lambda x: array([(x[0]**2 + 2.0)/3.0])\n",
    "    >>> my_fixed_point(userFunc1,[0.],0.01,100,0)\n",
    "    (array([0.98718895]), 8, 'Fixed point method converged.')\n",
    "    >>> my_fixed_point([0.],0.01,100,1)\n",
    "    iter = 1 x = [0.66666667]\n",
    "    iter = 2 x = [0.81481481]\n",
    "    iter = 3 x = [0.88797439]\n",
    "    iter = 4 x = [0.92949951]\n",
    "    iter = 5 x = [0.95465645]\n",
    "    iter = 6 x = [0.97045631]\n",
    "    iter = 7 x = [0.98059515]\n",
    "    Fixed point method converged.\n",
    "    (array([0.98718895]), 8, 'Fixed point method converged.')\n",
    "    Written By\n",
    "    Santiago El Awad (Computational Mechanics Course)\n",
    "    \"\"\"\n",
    "    iIters, status = 0, \"Not converged.\" #initializing the iterations and convergence message\n",
    "    \n",
    "    while True:\n",
    "        if debug:\n",
    "            print(\"iIter =\", iIter, \"x =\", xO)\n",
    "        \n",
    "        if (iIters > maxIters):\n",
    "            status = status + \"Exceeded maxIters.\"\n",
    "            break\n",
    "            \n",
    "        iIters = iIters + 1\n",
    "        x = myfunc(xO)\n",
    "        \n",
    "        if LA.norm(x-xO) < tol:\n",
    "            status = \"Fixed point method converged.\"\n",
    "            break\n",
    "        else:\n",
    "            xO = x\n",
    "            print(\"iter =\", iIters, \"x =\", xO)\n",
    "            \n",
    "    return (x,iIters,status)"
   ]
  },
  {
   "cell_type": "code",
   "execution_count": 21,
   "id": "b0bf1656",
   "metadata": {},
   "outputs": [
    {
     "name": "stdout",
     "output_type": "stream",
     "text": [
      "iter = 1 x = [0.66666667]\n",
      "iter = 2 x = [0.81481481]\n",
      "iter = 3 x = [0.88797439]\n",
      "iter = 4 x = [0.92949951]\n",
      "iter = 5 x = [0.95465645]\n",
      "iter = 6 x = [0.97045631]\n",
      "iter = 7 x = [0.98059515]\n"
     ]
    },
    {
     "data": {
      "text/plain": [
       "(array([0.98718895]), 8, 'Fixed point method converged.')"
      ]
     },
     "execution_count": 21,
     "metadata": {},
     "output_type": "execute_result"
    }
   ],
   "source": [
    "userFunc1 = lambda x: np.array([(x[0]**2 + 2.0)/3.0])\n",
    "my_fixed_point(userFunc1,[0.],0.01,100,0)"
   ]
  },
  {
   "cell_type": "code",
   "execution_count": null,
   "id": "17e5a464",
   "metadata": {},
   "outputs": [],
   "source": []
  },
  {
   "cell_type": "code",
   "execution_count": null,
   "id": "fefa8678",
   "metadata": {},
   "outputs": [],
   "source": []
  }
 ],
 "metadata": {
  "kernelspec": {
   "display_name": "Python 3 (ipykernel)",
   "language": "python",
   "name": "python3"
  },
  "language_info": {
   "codemirror_mode": {
    "name": "ipython",
    "version": 3
   },
   "file_extension": ".py",
   "mimetype": "text/x-python",
   "name": "python",
   "nbconvert_exporter": "python",
   "pygments_lexer": "ipython3",
   "version": "3.8.8"
  }
 },
 "nbformat": 4,
 "nbformat_minor": 5
}
