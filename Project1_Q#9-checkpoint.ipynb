{
 "cells": [
  {
   "cell_type": "code",
   "execution_count": 82,
   "id": "ff4029a6",
   "metadata": {},
   "outputs": [],
   "source": [
    "import numpy as np\n",
    "\n",
    "#regularized parameter\n",
    "alpha = 1e-2\n",
    "\n",
    "#construct matrix\n",
    "B = np.array([[1, 1, 1],\n",
    "    [1, 2, 3]])\n",
    "A = np.matmul(np.transpose(B), B) + 0.001*np.identity(3)\n",
    "\n",
    "#define true solution\n",
    "xtrue = np.transpose(np.matrix([1, 2, 3]))\n",
    "\n",
    "#compute right hand side (and add random perturbation)\n",
    "eta = 0.05*np.linalg.norm(xtrue)\n",
    "per = eta*np.random.rand(3,1)\n",
    "b = np.dot(A, xtrue) + per\n",
    "\n",
    "#compute regularization operator\n",
    "L = np.identity(len(xtrue))\n",
    "\n",
    "#set up list of regularization parameters alpha\n",
    "alphalist = np.logspace(-6,6,13)\n",
    "\n",
    "#get number of different alphas\n",
    "m = len(alphalist)\n",
    "\n",
    "#create vector to store individual solution\n",
    "xsol = np.zeros((m+1, 3))\n",
    "\n",
    "#Linear Solver (A\\b):\n",
    "xsol[0,:] = np.transpose(np.dot(np.linalg.inv(A),b))"
   ]
  },
  {
   "cell_type": "code",
   "execution_count": 83,
   "id": "a4e5fdf5",
   "metadata": {},
   "outputs": [
    {
     "data": {
      "text/plain": [
       "(3, 1)"
      ]
     },
     "execution_count": 83,
     "metadata": {},
     "output_type": "execute_result"
    }
   ],
   "source": [
    "np.dot(np.linalg.inv(A),b).shape"
   ]
  },
  {
   "cell_type": "code",
   "execution_count": 84,
   "id": "13d1958f",
   "metadata": {},
   "outputs": [
    {
     "data": {
      "text/plain": [
       "(14, 3)"
      ]
     },
     "execution_count": 84,
     "metadata": {},
     "output_type": "execute_result"
    }
   ],
   "source": [
    "xsol.shape"
   ]
  },
  {
   "cell_type": "code",
   "execution_count": 85,
   "id": "4d44de4f",
   "metadata": {},
   "outputs": [
    {
     "data": {
      "text/plain": [
       "array([[ 2.63157183, -1.09291836,  4.52430713],\n",
       "       [ 0.        ,  0.        ,  0.        ],\n",
       "       [ 0.        ,  0.        ,  0.        ],\n",
       "       [ 0.        ,  0.        ,  0.        ],\n",
       "       [ 0.        ,  0.        ,  0.        ],\n",
       "       [ 0.        ,  0.        ,  0.        ],\n",
       "       [ 0.        ,  0.        ,  0.        ],\n",
       "       [ 0.        ,  0.        ,  0.        ],\n",
       "       [ 0.        ,  0.        ,  0.        ],\n",
       "       [ 0.        ,  0.        ,  0.        ],\n",
       "       [ 0.        ,  0.        ,  0.        ],\n",
       "       [ 0.        ,  0.        ,  0.        ],\n",
       "       [ 0.        ,  0.        ,  0.        ],\n",
       "       [ 0.        ,  0.        ,  0.        ]])"
      ]
     },
     "execution_count": 85,
     "metadata": {},
     "output_type": "execute_result"
    }
   ],
   "source": [
    "xsol"
   ]
  },
  {
   "cell_type": "code",
   "execution_count": null,
   "id": "347b6f70",
   "metadata": {},
   "outputs": [],
   "source": []
  }
 ],
 "metadata": {
  "kernelspec": {
   "display_name": "Python 3 (ipykernel)",
   "language": "python",
   "name": "python3"
  },
  "language_info": {
   "codemirror_mode": {
    "name": "ipython",
    "version": 3
   },
   "file_extension": ".py",
   "mimetype": "text/x-python",
   "name": "python",
   "nbconvert_exporter": "python",
   "pygments_lexer": "ipython3",
   "version": "3.9.12"
  }
 },
 "nbformat": 4,
 "nbformat_minor": 5
}
