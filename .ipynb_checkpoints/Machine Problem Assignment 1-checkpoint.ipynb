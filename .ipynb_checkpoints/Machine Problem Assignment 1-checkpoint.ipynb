{
 "cells": [
  {
   "cell_type": "code",
   "execution_count": 1,
   "id": "3379c663",
   "metadata": {},
   "outputs": [],
   "source": [
    "from math import *\n",
    "import numpy as np\n",
    "import scipy.linalg as LA\n",
    "import scipy.optimize as opt\n",
    "\n",
    "def my_fixed_point(myfunc,xO,tol,maxIters):\n",
    "    \"\"\"\n",
    "    This program solves a system of nonlinear equations\n",
    "    using the fixed point method within a specified\n",
    "    tolerance.\n",
    "    userFunc1 = lambda x: array([(x[0]**2 + 2.0)/3.0])\n",
    "    >>> my_fixed_point(userFunc1,[0.],0.01,100,0)\n",
    "    (array([0.98718895]), 8, 'Fixed point method converged.')\n",
    "    >>> my_fixed_point([0.],0.01,100,1)\n",
    "    iter = 1 x = [0.66666667]\n",
    "    iter = 2 x = [0.81481481]\n",
    "    iter = 3 x = [0.88797439]\n",
    "    iter = 4 x = [0.92949951]\n",
    "    iter = 5 x = [0.95465645]\n",
    "    iter = 6 x = [0.97045631]\n",
    "    iter = 7 x = [0.98059515]\n",
    "    Fixed point method converged.\n",
    "    (array([0.98718895]), 8, 'Fixed point method converged.')\n",
    "    Written By\n",
    "    Santiago El Awad (Computational Mechanics Course)\n",
    "    \"\"\"\n",
    "    iIters, status = 0, \"Not converged.\" #initializing the iterations and convergence message\n",
    "    \n",
    "    while True:     \n",
    "        if (iIters > maxIters):\n",
    "            status = status + \"Exceeded maxIters.\"\n",
    "            break\n",
    "            \n",
    "        iIters = iIters + 1\n",
    "        x = myfunc(xO)\n",
    "        \n",
    "        if LA.norm(x-xO) < tol:\n",
    "            status = \"Fixed point method converged.\"\n",
    "            break\n",
    "        else:\n",
    "            xO = x\n",
    "            print(\"iter =\", iIters, \"x =\", xO)\n",
    "            \n",
    "    return (x,iIters,status)"
   ]
  },
  {
   "cell_type": "markdown",
   "id": "b9f850cf",
   "metadata": {},
   "source": [
    "### Class example problem with fixed point method:\n",
    "$g(x) = \\frac{x^2 +2}{3}$"
   ]
  },
  {
   "cell_type": "code",
   "execution_count": 2,
   "id": "b0bf1656",
   "metadata": {},
   "outputs": [
    {
     "name": "stdout",
     "output_type": "stream",
     "text": [
      "iter = 1 x = [0.66666667]\n",
      "iter = 2 x = [0.81481481]\n",
      "iter = 3 x = [0.88797439]\n",
      "iter = 4 x = [0.92949951]\n",
      "iter = 5 x = [0.95465645]\n",
      "iter = 6 x = [0.97045631]\n",
      "iter = 7 x = [0.98059515]\n"
     ]
    },
    {
     "data": {
      "text/plain": [
       "(array([0.98718895]), 8, 'Fixed point method converged.')"
      ]
     },
     "execution_count": 2,
     "metadata": {},
     "output_type": "execute_result"
    }
   ],
   "source": [
    "userFunc1 = lambda x: np.array([(x[0]**2 + 2.0)/3.0])\n",
    "my_fixed_point(userFunc1,[0],0.01,100)"
   ]
  },
  {
   "cell_type": "markdown",
   "id": "bb36cc8e",
   "metadata": {},
   "source": [
    "### Assignment Problem #1: fixed point method\n",
    "$g(x) = 0.5*(x^2 + 1)$"
   ]
  },
  {
   "cell_type": "code",
   "execution_count": 3,
   "id": "6bf35bd3",
   "metadata": {},
   "outputs": [
    {
     "name": "stdout",
     "output_type": "stream",
     "text": [
      "iter = 1 x = [0.5]\n",
      "iter = 2 x = [0.625]\n",
      "iter = 3 x = [0.6953125]\n",
      "iter = 4 x = [0.74172974]\n",
      "iter = 5 x = [0.7750815]\n",
      "iter = 6 x = [0.80037567]\n",
      "iter = 7 x = [0.8203006]\n",
      "iter = 8 x = [0.83644654]\n",
      "iter = 9 x = [0.84982141]\n",
      "iter = 10 x = [0.86109821]\n",
      "iter = 11 x = [0.87074507]\n",
      "iter = 12 x = [0.87909848]\n",
      "iter = 13 x = [0.88640707]\n",
      "iter = 14 x = [0.89285875]\n",
      "iter = 15 x = [0.89859837]\n",
      "iter = 16 x = [0.90373952]\n",
      "iter = 17 x = [0.90837256]\n",
      "iter = 18 x = [0.91257035]\n",
      "iter = 19 x = [0.91639232]\n",
      "iter = 20 x = [0.91988745]\n",
      "iter = 21 x = [0.92309646]\n",
      "iter = 22 x = [0.92605353]\n",
      "iter = 23 x = [0.92878757]\n",
      "iter = 24 x = [0.93132318]\n",
      "iter = 25 x = [0.93368143]\n",
      "iter = 26 x = [0.93588051]\n",
      "iter = 27 x = [0.93793616]\n",
      "iter = 28 x = [0.93986212]\n",
      "iter = 29 x = [0.9416704]\n",
      "iter = 30 x = [0.94337158]\n",
      "iter = 31 x = [0.94497496]\n",
      "iter = 32 x = [0.94648884]\n",
      "iter = 33 x = [0.94792056]\n",
      "iter = 34 x = [0.9492767]\n",
      "iter = 35 x = [0.95056312]\n",
      "iter = 36 x = [0.95178513]\n",
      "iter = 37 x = [0.95294746]\n",
      "iter = 38 x = [0.95405443]\n",
      "iter = 39 x = [0.95510993]\n",
      "iter = 40 x = [0.95611749]\n"
     ]
    },
    {
     "data": {
      "text/plain": [
       "(array([0.95708033]), 41, 'Fixed point method converged.')"
      ]
     },
     "execution_count": 3,
     "metadata": {},
     "output_type": "execute_result"
    }
   ],
   "source": [
    "userFunc2 = lambda x: np.array([0.5 * (x[0]**2 + 1)])\n",
    "my_fixed_point(userFunc2,[0],0.001,100)"
   ]
  },
  {
   "cell_type": "code",
   "execution_count": null,
   "id": "562f7dfd",
   "metadata": {},
   "outputs": [],
   "source": []
  },
  {
   "cell_type": "code",
   "execution_count": null,
   "id": "77c2913c",
   "metadata": {},
   "outputs": [],
   "source": []
  },
  {
   "cell_type": "code",
   "execution_count": null,
   "id": "0ce39336",
   "metadata": {},
   "outputs": [],
   "source": []
  }
 ],
 "metadata": {
  "kernelspec": {
   "display_name": "Python 3 (ipykernel)",
   "language": "python",
   "name": "python3"
  },
  "language_info": {
   "codemirror_mode": {
    "name": "ipython",
    "version": 3
   },
   "file_extension": ".py",
   "mimetype": "text/x-python",
   "name": "python",
   "nbconvert_exporter": "python",
   "pygments_lexer": "ipython3",
   "version": "3.9.12"
  }
 },
 "nbformat": 4,
 "nbformat_minor": 5
}
